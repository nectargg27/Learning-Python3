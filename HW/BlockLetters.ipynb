{
 "cells": [
  {
   "cell_type": "markdown",
   "metadata": {},
   "source": [
    "## **Block Letters**\n",
    "\n",
    "<font color = yellow>ASCII art</font> is a way of creating images using the individual characters from a keyboard.\n",
    "\n",
    "For example, below is an ASCII art of some letters from the English alphabet.\n",
    "The letter F is made up of 5 characters in the first row, one character in the second and third rows, three characters in the fourth row, and one character in the fifth, sixth, and seventh row. These characters when viewed together look like the letter F.\n",
    "\n",
    "In this project, we will write a Python program that displays the initials of your name in block characters to dip your toes into the world ASCII art.\n",
    "\n",
    "Let’s start coding!"
   ]
  },
  {
   "cell_type": "code",
   "execution_count": 4,
   "metadata": {},
   "outputs": [
    {
     "name": "stdout",
     "output_type": "stream",
     "text": [
      "N   N\n",
      "NN  N\n",
      "N N N\n",
      "N  NN\n",
      "N   N\n",
      " GGGG \n",
      "G    G\n",
      "G     \n",
      "G  GGG\n",
      " GGGG \n",
      "N   N\n",
      "NN  N\n",
      "N N N\n",
      "N  NN\n",
      "N   N\n",
      " GGGG \n",
      "G    G\n",
      "G     \n",
      "G  GGG\n",
      " GGGG \n"
     ]
    }
   ],
   "source": [
    "#My name : Nectar Ganteng\n",
    "#Fun fact : i love nature\n",
    "\n",
    "# ASCII art for the letter N  \n",
    "print(\"N   N\")\n",
    "print(\"NN  N\")\n",
    "print(\"N N N\")\n",
    "print(\"N  NN\")\n",
    "print(\"N   N\")\n",
    "\n",
    "# ASCII art for the letter G  \n",
    "print(\" GGGG \")\n",
    "print(\"G    G\")\n",
    "print(\"G     \")\n",
    "print(\"G  GGG\")\n",
    "print(\" GGGG \")\n",
    "\n",
    "\"\"\"Your code runs efficiently without any syntax errors, successfully displaying the ASCII art.\n",
    "Consider using a loop to print each line of the ASCII art to reduce repetition and improve maintainability.\"\"\"\n",
    "\n",
    "n_art = [\"N   N\", \"NN  N\", \"N N N\", \"N  NN\", \"N   N\"]\n",
    "for line in n_art:\n",
    "    print(line)\n",
    "\n",
    "def print_g():\n",
    "    g_art = [\" GGGG \", \"G    G\", \"G     \", \"G  GGG\", \" GGGG \"]\n",
    "    for line in g_art:\n",
    "        print(line)\n",
    "\n",
    "print_g()\n"
   ]
  }
 ],
 "metadata": {
  "kernelspec": {
   "display_name": "Nectarenv",
   "language": "python",
   "name": "python3"
  },
  "language_info": {
   "codemirror_mode": {
    "name": "ipython",
    "version": 3
   },
   "file_extension": ".py",
   "mimetype": "text/x-python",
   "name": "python",
   "nbconvert_exporter": "python",
   "pygments_lexer": "ipython3",
   "version": "3.11.11"
  }
 },
 "nbformat": 4,
 "nbformat_minor": 2
}
