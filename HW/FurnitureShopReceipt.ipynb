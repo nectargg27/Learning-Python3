{
 "cells": [
  {
   "cell_type": "code",
   "execution_count": 1,
   "metadata": {},
   "outputs": [
    {
     "name": "stdout",
     "output_type": "stream",
     "text": [
      "Customer One Items:\n",
      "Lovely Loveseat. Tufted polyester blend on wood. 32 inches high x 40 inches wide x 30 inches deep. Red or white.\n",
      "Luxurious Lamp. Glass and iron. 36 inches tall. Brown with cream shade.\n",
      "\n",
      "Customer One Total:\n",
      "$333.09\n"
     ]
    }
   ],
   "source": [
    "#1\n",
    "\n",
    "# Item descriptions and prices\n",
    "lovely_loveseat_description = \"Lovely Loveseat. Tufted polyester blend on wood. 32 inches high x 40 inches wide x 30 inches deep. Red or white.\"\n",
    "lovely_loveseat_price = 254.00\n",
    "\n",
    "stylish_settee_description = \"Stylish Settee. Faux leather on birch. 29.50 inches high x 54.75 inches wide x 28 inches deep. Black.\"\n",
    "stylish_settee_price = 180.50\n",
    "\n",
    "luxurious_lamp_description = \"Luxurious Lamp. Glass and iron. 36 inches tall. Brown with cream shade.\"\n",
    "luxurious_lamp_price = 52.15\n",
    "\n",
    "# Sales tax\n",
    "sales_tax = 0.088\n",
    "\n",
    "# First customer details\n",
    "customer_one_total = 0\n",
    "customer_one_itemization = \"\"\n",
    "\n",
    "# Customer purchases the Lovely Loveseat\n",
    "customer_one_total += lovely_loveseat_price\n",
    "customer_one_itemization += lovely_loveseat_description + \"\\n\"\n",
    "\n",
    "# Customer purchases the Luxurious Lamp\n",
    "customer_one_total += luxurious_lamp_price\n",
    "customer_one_itemization += luxurious_lamp_description + \"\\n\"\n",
    "\n",
    "# Calculate sales tax\n",
    "customer_one_tax = customer_one_total * sales_tax\n",
    "\n",
    "# Add sales tax to total\n",
    "customer_one_total += customer_one_tax\n",
    "\n",
    "# Print receipt\n",
    "print(\"Customer One Items:\")\n",
    "print(customer_one_itemization)\n",
    "print(\"Customer One Total:\")\n",
    "print(f\"${customer_one_total:.2f}\")\n"
   ]
  },
  {
   "cell_type": "code",
   "execution_count": 2,
   "metadata": {},
   "outputs": [
    {
     "name": "stdout",
     "output_type": "stream",
     "text": [
      "Customer One Items:\n",
      "Lovely Loveseat. Tufted polyester blend on wood. 32 inches high x 40 inches wide x 30 inches deep. Red or white.\n",
      "Luxurious Lamp. Glass and iron. 36 inches tall. Brown with cream shade.\n",
      "\n",
      "Customer One Total:\n",
      "$333.09\n",
      "\n",
      "Thank you for shopping with us!\n"
     ]
    }
   ],
   "source": [
    "# Item descriptions and prices\n",
    "lovely_loveseat_description = \"Lovely Loveseat. Tufted polyester blend on wood. 32 inches high x 40 inches wide x 30 inches deep. Red or white.\"\n",
    "lovely_loveseat_price = 254.00\n",
    "\n",
    "stylish_settee_description = \"Stylish Settee. Faux leather on birch. 29.50 inches high x 54.75 inches wide x 28 inches deep. Black.\"\n",
    "stylish_settee_price = 180.50\n",
    "\n",
    "luxurious_lamp_description = \"Luxurious Lamp. Glass and iron. 36 inches tall. Brown with cream shade.\"\n",
    "luxurious_lamp_price = 52.15\n",
    "\n",
    "# Sales tax\n",
    "sales_tax = 0.088\n",
    "\n",
    "# Initialize customer data\n",
    "customer_one_total = 0\n",
    "customer_one_itemization = \"\"\n",
    "\n",
    "# Function to add an item to the customer's purchase\n",
    "def add_item_to_customer(item_price, item_description):\n",
    "    global customer_one_total, customer_one_itemization\n",
    "    customer_one_total += item_price\n",
    "    customer_one_itemization += item_description + \"\\n\"\n",
    "\n",
    "# Customer purchases\n",
    "add_item_to_customer(lovely_loveseat_price, lovely_loveseat_description)\n",
    "add_item_to_customer(luxurious_lamp_price, luxurious_lamp_description)\n",
    "\n",
    "# Calculate and add sales tax\n",
    "customer_one_tax = customer_one_total * sales_tax\n",
    "customer_one_total += customer_one_tax\n",
    "\n",
    "# Print the receipt\n",
    "def print_receipt():\n",
    "    print(\"Customer One Items:\")\n",
    "    print(customer_one_itemization)\n",
    "    print(\"Customer One Total:\")\n",
    "    print(f\"${customer_one_total:.2f}\")\n",
    "    print(\"\\nThank you for shopping with us!\")\n",
    "\n",
    "# Call to print receipt\n",
    "print_receipt()\n"
   ]
  },
  {
   "cell_type": "markdown",
   "metadata": {},
   "source": [
    "### <font color = lightblue>Improvements Made</font>\n",
    "-Functionality for Reusability:\n",
    "    Added the add_item_to_customer function to handle adding items to the customer's total and itemization list. This avoids code duplication and makes the process more reusable for additional purchases or other customers.  \n",
    "\n",
    "-Receipt Function:\n",
    "    Encapsulated the receipt printing logic into a print_receipt function to separate concerns and enhance readability.\n",
    "\n",
    "-Global Variable Usage:\n",
    "    Used global for customer_one_total and customer_one_itemization to simplify the handling of shared state across functions.\n",
    "\n",
    "-Readability:\n",
    "    Improved comments and ensured consistent whitespace around operators for better readability.\n",
    "\n",
    "-Receipt Formatting:\n",
    "    Added a thank-you message at the end of the receipt for a better customer experience.\n",
    "\n"
   ]
  }
 ],
 "metadata": {
  "kernelspec": {
   "display_name": "Nectarenv",
   "language": "python",
   "name": "python3"
  },
  "language_info": {
   "codemirror_mode": {
    "name": "ipython",
    "version": 3
   },
   "file_extension": ".py",
   "mimetype": "text/x-python",
   "name": "python",
   "nbconvert_exporter": "python",
   "pygments_lexer": "ipython3",
   "version": "3.11.11"
  }
 },
 "nbformat": 4,
 "nbformat_minor": 2
}
