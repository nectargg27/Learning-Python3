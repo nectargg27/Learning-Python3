{
 "cells": [
  {
   "cell_type": "markdown",
   "metadata": {},
   "source": [
    "## **Welcome**\n",
    "\n",
    "Python is a programming language. Like other languages, it gives us a way to communicate ideas. In the case of a programming language, these ideas are **“commands”** that people use to communicate with a computer!\n",
    "\n",
    "We convey our commands to the computer by writing them in a text file using a programming language. These **files** are called *programs*. Running a program means telling a computer to read the text file, translate it to the set of operations that it understands, and perform those actions.  \n",
    "\n",
    "\n"
   ]
  },
  {
   "cell_type": "code",
   "execution_count": 1,
   "metadata": {},
   "outputs": [
    {
     "name": "stdout",
     "output_type": "stream",
     "text": [
      "Hello and welcome Nectar!\n"
     ]
    }
   ],
   "source": [
    "my_name = \"Nectar\"\n",
    "print(\"Hello and welcome \" + my_name + \"!\")"
   ]
  },
  {
   "cell_type": "markdown",
   "metadata": {},
   "source": [
    "## **Comments**\n",
    "Ironically, the first thing we’re going to do is show how to tell a computer to ignore a part of a program. Text written in a program but not run by the computer is called a **comment**. Python interprets anything after a `#` as a comment.\n",
    "\n",
    "Comments can:\n",
    "\n",
    "- Provide context for why something is written the way it is: \n",
    "  ```python\n",
    "  # This variable will be used to count the number of times anyone tweets the word persnickety\n",
    "  persnickety_count = 0\n",
    "  ```\n",
    "\n",
    "- Help other people reading the code understand it faster:\n",
    "  ```python\n",
    "  # This code will calculate the likelihood that it will rain tomorrow\n",
    "  complicated_rain_calculation_for_tomorrow()\n",
    "  ```  \n",
    "- Ignore a line of code and see how a program will run without it:\n",
    "  ```python\n",
    "  # useful_value = old_sloppy_code()\n",
    "  useful_value = new_clean_code()\n",
    "  ```"
   ]
  },
  {
   "cell_type": "markdown",
   "metadata": {},
   "source": [
    "## **Print**\n",
    "\n",
    "Now what we’re going to do is teach our computer to communicate. The gift of speech is valuable: a computer can answer many questions we have about “how” or “why” or “what” it is doing. In Python, the <span style=\"color: #4CAF50;\">print</span> function is used to tell a computer to talk. The message to be printed should be surrounded by quotes:\n",
    "\n",
    "```python\n",
    "# from Mary Shelley's Frankenstein\n",
    "print(\"There is something at work in my soul, which I do not understand.\")\n",
    "```  \n",
    "In the above example, we direct our program to <span style=\"color: #4CAF50;\">print</span> an excerpt from a notable book. The printed words that appear as a result of the <span style=\"color: #4CAF50;\">print</span> function are referred to as output. The output of this example program would be:\n",
    "\n",
    "`There is something at work in my soul, which I do not understand.`\n",
    "\n",
    "\n"
   ]
  },
  {
   "cell_type": "markdown",
   "metadata": {},
   "source": [
    "## [**Strings**](https://www.codecademy.com/resources/docs/python/strings)\n",
    "Computer programmers refer to blocks of text as **strings**. In our last exercise, we created the string `“Hello world!”`. In Python a string is either surrounded by double quotes (\"Hello world\") or single quotes (`'Hello world'`). It doesn’t matter which kind you use, just be consistent."
   ]
  },
  {
   "cell_type": "markdown",
   "metadata": {},
   "source": [
    "## [**Variables**](https://www.codecademy.com/resources/docs/python/variables)\n",
    "Programming languages offer a method of storing data for reuse. If there is a greeting we want to present, a date we need to reuse, or a user ID we need to remember, we can create a <span style=\"color: #FFEB3B; text-decoration: underline;\">variable</span> which can store a value. In Python, we <span style=\"color: #FFEB3B; text-decoration: underline;\">assign</span> variables by using the equals sign (<span style=\"color:rgb(59, 173, 63);\">**=**</span>).  \n",
    "```python\n",
    "message_string = \"Hello there\"\n",
    "# Prints \"Hello there\"\n",
    "print(message_string)\n",
    "```\n",
    "In the above example, we store the message “Hello there” in a variable called <span style=\"color:rgb(59, 173, 63);\">**message_string.**</span>. Variables can’t have spaces or symbols in their names other than an underscore (`_`). They can’t begin with numbers but they can have numbers after the first letter (e.g., <span style=\"color:rgb(59, 173, 63);\">**cool_variable_5**</span> is OK).  \n",
    "\n",
    "It’s no coincidence we call these creatures “variables”. If the context of a program changes, we can update a variable but perform the same logical process on it. \n",
    "```python \n",
    "# Greeting\n",
    "message_string = \"Hello there\"\n",
    "print(message_string)\n",
    "\n",
    "# Farewell\n",
    "message_string = \"Hasta la vista\"\n",
    "print(message_string)\n",
    "```\n",
    "Above, we create the variable <span style=\"color:rgb(59, 173, 63);\">**message_string.**</span>, assign a welcome message, and print the greeting. After we greet the user, we want to wish them goodbye. We then update <span style=\"color:rgb(59, 173, 63);\">**message_string.**</span> to a departure message and print that out."
   ]
  },
  {
   "cell_type": "code",
   "execution_count": 2,
   "metadata": {},
   "outputs": [
    {
     "name": "stdout",
     "output_type": "stream",
     "text": [
      "Breakfast:\n",
      "An english muffin\n",
      "Lunch:\n",
      "Rawon\n",
      "Dinner:\n",
      "Sushi\n"
     ]
    }
   ],
   "source": [
    "# We've defined the variable \"meal\" here to the name of the food we ate for breakfast!\n",
    "meal = \"An english muffin\"\n",
    "\n",
    "# Printing out breakfast\n",
    "print(\"Breakfast:\")\n",
    "print(meal)\n",
    "\n",
    "# Now update meal to be lunch!\n",
    "meal =\"Rawon\"\n",
    "\n",
    "# Printing out lunch\n",
    "print(\"Lunch:\")\n",
    "print(meal)\n",
    "\n",
    "# Now update \"meal\" to be dinner\n",
    "meal = \"Sushi\"\n",
    "# Printing out dinner\n",
    "print(\"Dinner:\")\n",
    "print(meal)\n"
   ]
  },
  {
   "cell_type": "markdown",
   "metadata": {},
   "source": [
    "## **Errors**\n",
    "Humans are prone to making mistakes. Humans are also typically in charge of creating computer programs. To compensate, programming languages attempt to understand and explain mistakes made in their programs.  \n",
    "\n",
    "Python refers to these mistakes as <span style=\"color: #FFEB3B; text-decoration: underline;\">errors</span> and will point to the location where an error occurred with a <span style=\"color:rgb(59, 173, 63);\">**^**</span> character. When programs throw errors that we didn’t expect to encounter we call those errors bugs. Programmers call the process of updating the program so that it no longer produces unexpected errors *debugging*.  \n",
    "\n",
    "Two common errors that we encounter while writing Python are <span style=\"color:rgb(59, 173, 63);\">**SyntaxError**</span> and <span style=\"color:rgb(59, 173, 63);\">**NameError**</span>.  \n",
    "- <span style=\"color:rgb(59, 173, 63);\">SyntaxError</span> means there is something wrong with the way your program is written — punctuation that does not belong, a command where it is not expected, or a missing parenthesis can all trigger a <span style=\"color:rgb(59, 173, 63);\">SyntaxError</span>.\n",
    "- A <span style=\"color:rgb(59, 173, 63);\">NameError</span> occurs when the Python interpreter sees a word it does not recognize. Code that contains something that looks like a variable but was never defined will throw a <span style=\"color:rgb(59, 173, 63);\">NameError</span>."
   ]
  },
  {
   "cell_type": "markdown",
   "metadata": {},
   "source": [
    "## **Numbers**\n",
    "Computers can understand much more than just <span style=\"color: #FFEB3B; \">strings</span> of text. Python has a few <span style=\"color: #FFEB3B; text-decoration: none;\">numeric *data types*</span>.It has multiple ways of storing numbers. Which one you use depends on your intended purpose for the number you are saving.  \n",
    "\n",
    "An integer, or  A `int`, is a whole number. It has no decimal point and contains all counting numbers (1, 2, 3, …) as well as their negative counterparts and the number 0. If you were counting the number of people in a room, the number of jellybeans in a jar, or the number of keys on a keyboard you would likely use an integer.  \n",
    "\n",
    "A floating-point number, or a `float`, is a decimal number. It can be used to represent fractional quantities as well as precise measurements. If you were measuring the length of your bedroom wall, calculating the average test score of a seventh-grade class, or storing a baseball player’s batting average for the 1998 season you would likely use a `float`.  \n",
    "\n",
    "Numbers can be assigned to <span style=\"color: #FFEB3B; text-decoration: none;\">variables</span> or used literally in a program:\n",
    "```python\n",
    "an_int = 2\n",
    "a_float = 2.1\n",
    "\n",
    "print(an_int + 3)\n",
    "# Output: 5\n",
    "```\n",
    "Above we defined an integer and a float as the variables `an_int` and `a_float`. We printed out the sum of the variable `an_int` with the number `3`. We call the number 3 here a *literal* , meaning it’s actually the number 3 and not a variable with the number `3` assigned to it.  \n",
    "\n",
    "Floating-point numbers can behave in some unexpected ways due to how computers store them. For more information on floating-point numbers and Python, review <a href=\"https://docs.python.org/3/tutorial/floatingpoint.html\" style=\"color: #FFEB3B; text-decoration: underline;\">Python’s documentation on floating-point limitations</a>\n",
    ".\n",
    "\n",
    "[Strings](https://www.codecademy.com/resources/docs/python/strings) Is a sequence of characters cintained within a pair of single or double quotes  \n",
    "[numeric data types](https://www.codecademy.com/resources/docs/python/data-types?page_ref=catalog) Phyton is a strongly typed language. At runtime itit prevents typing errors and engages in little implicit type converrsation"
   ]
  },
  {
   "cell_type": "code",
   "execution_count": 3,
   "metadata": {},
   "outputs": [
    {
     "name": "stdout",
     "output_type": "stream",
     "text": [
      "1988\n",
      "120\n",
      "9.5\n"
     ]
    }
   ],
   "source": [
    "# Define the release and runtime integer variables below:\n",
    "release_year = 1988\n",
    "print(release_year)\n",
    "\n",
    "runtime = 120\n",
    "print(runtime)\n",
    "\n",
    "# Define the rating_out_of_10 float variable below: \n",
    "rating_out_of_10 = 9.5\n",
    "print(rating_out_of_10)\n",
    "\n"
   ]
  },
  {
   "cell_type": "markdown",
   "metadata": {},
   "source": [
    "## **Calculations**\n",
    "\n",
    "Computers absolutely excel at performing calculations. The “compute” in their name comes from their historical association with providing answers to mathematical questions. Python performs the <a href=\"https://www.codecademy.com/resources/docs/python/operators?page_ref=catalog\" style=\"color: #FFEB3B; text-decoration: underline;\">arithmatic operations</a> of addition, subtraction, multiplication, and division with `+`(addition), `-`(subtraction), `*`(multiplication), and `/`(division).\n",
    "```python\n",
    "# Prints \"500\"\n",
    "print(573 - 74 + 1)\n",
    "\n",
    "# Prints \"50\"\n",
    "print(25 * 2)\n",
    "\n",
    "# Prints \"2.0\"\n",
    "print(10 / 5)\n",
    "```\n",
    "Notice that when we perform division, the result has a decimal place. This is because Python converts all `ints` to `floats` before performing division. In older versions of Python (2.7 and earlier) this conversion did not happen, and integer division would always round down to the nearest integer.  \n",
    "\n",
    "Division can throw its own special error: `ZeroDivisionError`. Python will raise this error when attempting to divide by 0.  \n",
    "\n",
    "Mathematical operations in Python follow the standard mathematical <a href=\"https://www.codecademy.com/resources/docs/python/operators?page_ref=catalog\" style=\"color: #FFEB3B; text-decoration: underline;\">order of operations</a>."
   ]
  },
  {
   "cell_type": "code",
   "execution_count": 4,
   "metadata": {},
   "outputs": [
    {
     "name": "stdout",
     "output_type": "stream",
     "text": [
      "1700.4642857142858\n"
     ]
    }
   ],
   "source": [
    "# Print out the result of this equation: 25 * 68 + 13 / 28\n",
    "x = 25 * 68 + 13 / 28\n",
    "print(x)"
   ]
  },
  {
   "cell_type": "markdown",
   "metadata": {},
   "source": [
    "## Changing Numbers\n",
    "<a href=\"https://www.codecademy.com/resources/docs/python/variables\" style=\"color: #FFEB3B; text-decoration: underline;\">Variabels</a> that are assigned numeric values can be treated the same as the numbers themselves. Two variables can be added together, divided by `2`, and multiplied by a third variable without Python distinguishing between the variables and _literals_ (like the number `2` in this example). Performing arithmetic on variables does not change the variable — you can only update a variable using the `=` sign.  \n",
    "\n",
    "```python\n",
    "coffee_price = 1.50\n",
    "number_of_coffees = 4\n",
    "\n",
    "# Prints \"6.0\"\n",
    "print(coffee_price * number_of_coffees)\n",
    "# Prints \"1.5\"\n",
    "print(coffee_price)\n",
    "# Prints \"4\"\n",
    "print(number_of_coffees)\n",
    "\n",
    "# Updating the price \n",
    "coffee_price = 2.00\n",
    "\n",
    "# Prints \"8.0\"\n",
    "print(coffee_price * number_of_coffees)\n",
    "# Prints \"2.0\"\n",
    "print(coffee_price)\n",
    "# Prints \"4\"\n",
    "print(number_of_coffees)\n",
    "```\n",
    "\n",
    "We create two variables and assign numeric values to them. Then we perform a calculation on them. This doesn’t update the variables! When we update the <span style=\"color:rgb(59, 173, 63);\">__coffee_price__</span> variable and perform the calculations again, they use the updated values for the variable!"
   ]
  },
  {
   "cell_type": "code",
   "execution_count": 5,
   "metadata": {},
   "outputs": [
    {
     "name": "stdout",
     "output_type": "stream",
     "text": [
      "96\n",
      "64\n"
     ]
    }
   ],
   "source": [
    "\"\"\" You've decided to get into quilting! To calculate the number of squares \n",
    "you'll need for your  first quilt let's create two variables: quilt_width and quilt_length. \n",
    "Let's make this first quilt 8 squares wide and 12 squares long. \"\"\"\n",
    "# Define the quilt dimensions in squares  \n",
    "quilt_width = 8  \n",
    "quilt_length = 12  \n",
    "\n",
    "# Calculate the total number of squares needed  \n",
    "total_squares = quilt_width * quilt_length  \n",
    "\n",
    "# Print the total number of squares  \n",
    "print(total_squares)\n",
    "\n",
    "\"\"\"It turns out that quilt required a little more material than you have on hand! \n",
    "Let's only make the quilt 8 squares long. How many squares will you need for this quilt instead?\"\"\"\n",
    "# Define the quilt dimensions in squares  \n",
    "quilt_width = 8  \n",
    "quilt_length = 8  # Updated to 8 squares long  \n",
    "\n",
    "# Calculate the total number of squares needed  \n",
    "total_squares = quilt_width * quilt_length  \n",
    "\n",
    "# Print the total number of squares  \n",
    "print(total_squares)"
   ]
  },
  {
   "cell_type": "markdown",
   "metadata": {},
   "source": [
    "## **Exponents** \n",
    "Python can also perform exponentiation. In written math, you might see an <a href=\"https://www.codecademy.com/resources/docs/python/operators?page_ref=catalog\" style=\"color: #FFEB3B; text-decoration: underline;\">exponent</a> as a superscript number, but typing superscript numbers isn’t always easy on modern keyboards. Since this operation is so related to multiplication, we use the notation `**`.\n",
    "```python\n",
    "# 2 to the 10th power, or 1024\n",
    "print(2 ** 10)\n",
    "\n",
    "# 8 squared, or 64\n",
    "print(8 ** 2)\n",
    "\n",
    "# 9 * 9 * 9, 9 cubed, or 729\n",
    "print(9 ** 3)\n",
    "\n",
    "# We can even perform fractional exponents\n",
    "# 4 to the half power, or 2\n",
    "print(4 ** 0.5)\n",
    "```\n",
    "Here, we compute some simple exponents. We calculate 2 to the 10th power, 8 to the 2nd power, 9 to the 3rd power, and 4 to the 0.5th power."
   ]
  },
  {
   "cell_type": "code",
   "execution_count": 6,
   "metadata": {},
   "outputs": [
    {
     "name": "stdout",
     "output_type": "stream",
     "text": [
      "36\n",
      "49\n",
      "64\n",
      "1296\n"
     ]
    }
   ],
   "source": [
    "\"\"\"You really like how the square quilts from last exercise came out, \n",
    "and decide that all quilts that you make will be square from now on.\n",
    "\n",
    "Using the exponent operator, print out how many squares you'll need for a \n",
    "6x6 quilt, a 7x7 quilt, and an 8x8 quilt.\"\"\"\n",
    "\n",
    "# Calculation of squares for:\n",
    "# 6x6 quilt\n",
    "print(6 ** 2)\n",
    "# 7x7 quilt\n",
    "print (7 ** 2)\n",
    "# 8x8 quilt\n",
    "print (8 ** 2)\n",
    "\n",
    "\"\"\"Your 6x6 quilts have become so popular that 6 people have each requested 6 quilts. \n",
    "Print out how many total tiles you would need to make 6 6x6 quilts for 6 people.\"\"\"\n",
    "# How many squares for 6 people to have 6 quilts each that are 6x6?\n",
    "# Define the number of people and quilts per person  \n",
    "num_people = 6  \n",
    "quilts_per_person = 6  \n",
    "\n",
    "# Define the dimensions of each quilt using exponents  \n",
    "quilt_size = 6 ** 2  # 6 squared, which is 36 squares per quilt  \n",
    "\n",
    "# Calculate the total number of quilts  \n",
    "total_quilts = num_people * quilts_per_person  # 6 * 6 = 36  \n",
    "\n",
    "# Calculate the total number of squares needed  \n",
    "total_squares = quilt_size * total_quilts  # 36 * 36 = 1296  \n",
    "\n",
    "# Print the total number of squares  \n",
    "print(total_squares)"
   ]
  },
  {
   "cell_type": "markdown",
   "metadata": {},
   "source": [
    "## [**Modulo**](https://www.codecademy.com/resources/docs/python/modulo)\n",
    "Python offers a companion to the division operator called the <font font color = yellow>modulo</font> operator. The modulo operator is indicated by `%` and gives the remainder of a division calculation. If the two numbers are divisible, then the result of the modulo operation will be 0.  \n",
    "```python\n",
    "# Prints 4 because 29 / 5 is 5 with a remainder of 4\n",
    "print(29 % 5)\n",
    " \n",
    "# Prints 2 because 32 / 3 is 10 with a remainder of 2\n",
    "print(32 % 3)\n",
    " \n",
    "# Modulo by 2 returns 0 for even numbers and 1 for odd numbers\n",
    "# Prints 0\n",
    "print(44 % 2)\n",
    "```\n",
    "Here, we use the modulo operator to find the remainder of division operations. We see that `29 % 5` equals 4, `32 % 3` equals 2, and `44 % 2` equals 0.\n",
    "\n",
    "Let’s look at another example to get a better idea of how modulo is useful in programming:\n",
    "```python\n",
    "print(3 % 3) # Prints 0\n",
    "print(4 % 3) # Prints 1\n",
    "print(5 % 3) # Prints 2\n",
    "print(6 % 3) # Prints 0\n",
    "print(7 % 3) # Prints 1\n",
    "```\n",
    "In each of these modulo operations, 3 is the divisor. Since `3 / 3` equals 1 with no remainder, the result of the first modulo operation is 0. Note that as the dividend increases by 1, the remainder also increases by 1, until we reach the next number that is evenly divisible by 3 — this creates a pattern that repeats contiuously as the dividend increases by 1!  \n",
    "\n",
    "Because of this, the modulo operator is useful in programming when we want to perform an action every nth time something occurs. Imagine you own a small café and would like for every 7th customer to receive a survey. If every customer transaction is numbered in the order they occur, you can determine which customers should receive the survey by calculating <span style=\"color:rgb(59, 173, 63);\">transaction_number % 7</span>.  — if the result is 0, hand out the survey!"
   ]
  },
  {
   "cell_type": "code",
   "execution_count": 7,
   "metadata": {},
   "outputs": [
    {
     "name": "stdout",
     "output_type": "stream",
     "text": [
      "First order remainder: 9\n",
      "First order coupon: no\n",
      "Second order remainder: 0\n",
      "Second order coupon: yes\n"
     ]
    }
   ],
   "source": [
    "# ----------------- Step 1: First Order -----------------\n",
    "\"\"\"You are starting a new campaign for your online shop where every 10th customer gets 10% off their next order.\n",
    "To easily calculate this, you decide that order numbers divisible by 10 will receive the coupon.\n",
    "Here comes the first order of the day, #269!\n",
    "Create a new variable, first_order_remainder, and set it equal to 269 modulo 10.\n",
    "Then, print out first_order_remainder to find out if that customer will receive a discount.\"\"\"\n",
    "  \n",
    "# Calculate the remainder of 269 divided by 10  \n",
    "first_order_remainder = 269 % 10  \n",
    "\n",
    "# Print the remainder  \n",
    "print(\"First order remainder:\", first_order_remainder)\n",
    "\n",
    "# ----------------- Step 2: Check for Coupon -----------------\n",
    "\"\"\"Look at the printed value of first_order_remainder. Was the remainder 0, meaning that the customer should receive a coupon for this order?\n",
    "Create a new variable called first_order_coupon and assign to it a value of \"yes\" if the order should get a coupon.\n",
    "Otherwise, give first_order_coupon the value of \"no\".\"\"\"\n",
    "\n",
    "# Check if the remainder is 0 and assign the coupon value accordingly  \n",
    "if first_order_remainder == 0:  \n",
    "    first_order_coupon = \"yes\"  \n",
    "else:  \n",
    "    first_order_coupon = \"no\"  \n",
    "\n",
    "# Print the coupon value  \n",
    "print(\"First order coupon:\", first_order_coupon)\n",
    "\n",
    "# ----------------- Step 3: Second Order -----------------\n",
    "\"\"\"Here comes the second order of the day, #270! Let's see if they will get a discount!\n",
    "Find the remainder by calculating 270 modulo 10 and store the result in a new variable named second_order_remainder.\n",
    "Then, print out second_order_remainder.\"\"\"\n",
    "\n",
    "# Calculate the remainder of 270 divided by 10  \n",
    "second_order_remainder = 270 % 10  \n",
    "\n",
    "# Print the remainder  \n",
    "print(\"Second order remainder:\", second_order_remainder)\n",
    "\n",
    "# ----------------- Step 4: Check for Second Coupon -----------------\n",
    "\"\"\"Based on the printed value of second_order_remainder, should the customer receive a coupon for this order?\n",
    "Create a new variable named second_order_coupon and give it a value of \"yes\" if the order should get a coupon.\n",
    "Otherwise, give second_order_coupon the value of \"no\".\"\"\"\n",
    "\n",
    "# Check if the remainder is 0 and assign the coupon value accordingly  \n",
    "if second_order_remainder == 0:  \n",
    "    second_order_coupon = \"yes\"  \n",
    "else:  \n",
    "    second_order_coupon = \"no\"  \n",
    "\n",
    "# Print the coupon value  \n",
    "print(\"Second order coupon:\", second_order_coupon)\n"
   ]
  },
  {
   "cell_type": "markdown",
   "metadata": {},
   "source": [
    "## [**Concatenation**](https://www.codecademy.com/resources/docs/python/strings?page_ref=catalog)\n",
    "The `+` operator doesn’t just add two numbers, it can also “add” two strings! The process of combining two strings is called <a href=\"https://www.codecademy.com/resources/docs/python/strings?page_ref=catalog\" style=\"color: #FFEB3B; text-decoration: underline;\">string concatenation</a> Performing string concatenation creates a brand new string comprised of the first string’s contents followed by the second string’s contents (without any added space in-between).\n",
    "```python\n",
    "greeting_text = \"Hey there!\"\n",
    "question_text = \"How are you doing?\"\n",
    "full_text = greeting_text + question_text\n",
    "\n",
    "# Prints \"Hey there!How are you doing?\"\n",
    "print(full_text)\n",
    "```\n",
    "In this sample of code, we create two <font color = yellow>variables</font> that hold strings and then concatenate them. But we notice that the result was missing a space between the two, let’s add the space in-between using the same concatenation operator!\n",
    "```python\n",
    "full_text = greeting_text + \" \" + question_text\n",
    "\n",
    "# Prints \"Hey there! How are you doing?\"\n",
    "print(full_text)\n",
    "```\n",
    "Now the code prints the message we expected.\n",
    "\n",
    "If you want to concatenate a string with a number you will need to make the number a string first, using the `str()` <font color=yellow>function</font>. If you’re trying to `print()`a numeric variable you can use commas to pass it as a different argument rather than converting it to a string.\n",
    "```python\n",
    "birthday_string = \"I am \"\n",
    "age = 10\n",
    "birthday_string_2 = \" years old today!\"\n",
    "\n",
    "# Concatenating an integer with strings is possible if we turn the integer into a string first\n",
    "full_birthday_string = birthday_string + str(age) + birthday_string_2\n",
    "\n",
    "# Prints \"I am 10 years old today!\"\n",
    "print(full_birthday_string)\n",
    "\n",
    "# If we just want to print an integer \n",
    "# we can pass a variable as an argument to \n",
    "# print() regardless of whether it is a string.\n",
    "\n",
    "# This also prints \"I am 10 years old today!\"\n",
    "print(birthday_string, age, birthday_string_2)\n",
    "```\n",
    "Using `str()` we can convert variables that are not strings to strings and then concatenate them. But we don’t need to convert a number to a string for it to be an argument to a print statement.\n",
    "```python\n",
    "print(\"the answer is\" + \" \" + str(17+30))\n",
    "#the answer is 47\n",
    "```"
   ]
  },
  {
   "cell_type": "code",
   "execution_count": 8,
   "metadata": {},
   "outputs": [
    {
     "name": "stdout",
     "output_type": "stream",
     "text": [
      "The wind, which had hitherto carried us along with amazing rapidity, sank at sunset to a light breeze; the soft air just ruffled the water and caused a pleasant motion among the trees as we approached the shore, from which it wafted the most delightful scent of flowers and hay.\n"
     ]
    }
   ],
   "source": [
    "string1 = \"The wind, \"\n",
    "string2 = \"which had hitherto carried us along with amazing rapidity, \"\n",
    "string3 = \"sank at sunset to a light breeze; \"\n",
    "string4 = \"the soft air just ruffled the water and \"\n",
    "string5 = \"caused a pleasant motion among the trees as we approached the shore, \"\n",
    "string6 = \"from which it wafted the most delightful scent of flowers and hay.\"\n",
    "\n",
    "# Define message below:\n",
    "message = string1 + string2 + string3 + string4 + string5 + string6 \n",
    "\n",
    "print(message)"
   ]
  },
  {
   "cell_type": "markdown",
   "metadata": {},
   "source": [
    "## [**Plus Equals**](https://www.codecademy.com/resources/docs/python/operators?page_req=catalog)\n",
    "Python offers a shorthand for updating <font color = yellow>variables</font>. When you have a number saved in a variable and want to add to the current value of the variable, you can use the `+=` <font color=yellow>(plus-equals) operator</font>.\n",
    "```python\n",
    "# First we have a variable with a number saved\n",
    "number_of_miles_hiked = 12\n",
    "\n",
    "# Then we need to update that variable\n",
    "# Let's say we hike another two miles today\n",
    "number_of_miles_hiked += 2\n",
    "\n",
    "# The new value is the old value\n",
    "# Plus the number after the plus-equals\n",
    "print(number_of_miles_hiked)\n",
    "# Prints 14\n",
    "```\n",
    "Above, we keep a running count of the number of miles a person has gone hiking over time. Instead of recalculating from the start, we keep a grand total and update it when we’ve gone hiking further.\n",
    "\n",
    "The plus-equals operator also can be used for string concatenation, like so:\n",
    "```python\n",
    "hike_caption = \"What an amazing time to walk through nature!\"\n",
    "\n",
    "# Almost forgot the hashtags!\n",
    "hike_caption += \" #nofilter\"\n",
    "hike_caption += \" #blessed\"\n",
    "```\n",
    "We create the social media caption for the photograph of nature we took on our hike, but then update the caption to include important social media tags we almost forgot.\n",
    "\n"
   ]
  },
  {
   "cell_type": "code",
   "execution_count": 9,
   "metadata": {},
   "outputs": [
    {
     "name": "stdout",
     "output_type": "stream",
     "text": [
      "The total price is 109.0\n"
     ]
    }
   ],
   "source": [
    "# We're doing a little bit of online shopping and find a pair of new sneakers.\n",
    "# Right before we check out, we spot a nice sweater and some fun books we also want to purchase!\n",
    "# Use the += operator to update the total_price to include the prices of nice_sweater and fun_books.\n",
    "# The prices are:\n",
    "# new_sneakers = 50.00\n",
    "# nice_sweater = 39.00\n",
    "# fun_books = 20.00\n",
    "\n",
    "# Initialize the total price to 0\n",
    "total_price = 0\n",
    "\n",
    "# Prices of items\n",
    "new_sneakers = 50.00\n",
    "nice_sweater = 39.00\n",
    "fun_books = 20.00\n",
    "\n",
    "# Add the price of the new sneakers to the total\n",
    "total_price += new_sneakers  # total_price = 50.00\n",
    "\n",
    "# Add the price of the nice sweater to the total\n",
    "total_price += nice_sweater  # total_price = 50.00 + 39.00\n",
    "\n",
    "# Add the price of the fun books to the total\n",
    "total_price += fun_books  # total_price = 89.00 + 20.00\n",
    "\n",
    "# Print the final total price\n",
    "print(\"The total price is\", total_price)\n"
   ]
  },
  {
   "cell_type": "markdown",
   "metadata": {},
   "source": [
    "## **Multi-line Strings** \n",
    "Python strings are very flexible, but if we try to create a string that occupies multiple lines we find ourselves face-to-face with a `SyntaxError`. Python offers a solution: <font color= yellow>*multi-line* strings</font>. By using three quote-marks (`\"\"\"` or `'''`) instead of one, we tell the program that the string doesn’t end until the next triple-quote. This method is useful if the string being defined contains a lot of quotation marks and we want to be sure we don’t close it prematurely.\n",
    "```python\n",
    "leaves_of_grass = \"\"\"\n",
    "Poets to come! orators, singers, musicians to come!\n",
    "Not to-day is to justify me and answer what I am for,\n",
    "But you, a new brood, native, athletic, continental, greater than\n",
    "  before known,\n",
    "Arouse! for you must justify me.\n",
    "\"\"\"\n",
    "```\n",
    "In the above example, we assign a famous poet’s words to a variable. Even though the quote contains multiple linebreaks, the code works!\n",
    "\n",
    "If a multi-line string isn’t assigned a variable or used in an expression it is treated as a comment.\n"
   ]
  },
  {
   "cell_type": "code",
   "execution_count": 10,
   "metadata": {},
   "outputs": [
    {
     "name": "stdout",
     "output_type": "stream",
     "text": [
      "Stranger, if you passing meet me and desire to speak to me, why\n",
      "  should you not speak to me?\n",
      "And why should I not speak to you?\n"
     ]
    }
   ],
   "source": [
    "# Assign the string here\n",
    "to_you = '''Stranger, if you passing meet me and desire to speak to me, why\n",
    "  should you not speak to me?\n",
    "And why should I not speak to you?'''\n",
    "\n",
    "\n",
    "\n",
    "print(to_you)"
   ]
  },
  {
   "cell_type": "markdown",
   "metadata": {},
   "source": [
    "## **Review**\n",
    "In this lesson, we accomplished a lot of things! We instructed our computers to print messages, we stored these messages as <font color = yellow>variables</font>, and we learned to update those messages depending on the part of the program we were in. We performed mathematical calculations and explored some of the mathematical expressions that Python offers us. We learned about <font color = yellow>errors</font> and other valuable skills that will continue to serve us as we develop our programming skills.\n",
    "\n",
    "Good job!\n",
    "\n",
    "Here are a few more resources to add to your toolkit:\n",
    "\n",
    "<a href=\"https://www.codecademy.com/resources/docs/python?page_ref=catalog\" style=\"color: #FFEB3B; text-decoration: underline;\">Codecademy Docs: Python</a>\n",
    "<a href=\"https://www.codecademy.com/workspaces/new\" style=\"color: #FFEB3B; text-decoration: underline;\">Codecademy Workspaces: Python</a>\n",
    "\n",
    "Make sure to bookmark these links so you have them at your disposal."
   ]
  },
  {
   "cell_type": "code",
   "execution_count": 11,
   "metadata": {},
   "outputs": [
    {
     "name": "stdout",
     "output_type": "stream",
     "text": [
      "My Age: 20\n",
      "Half My Age: 10.0\n",
      "Greeting: Hello\n",
      "Name: Nectar\n",
      "Greeting with Name: Hello, Nectar!\n"
     ]
    }
   ],
   "source": [
    "# Assign a value to my_age  \n",
    "my_age = 20  # Example age  \n",
    "\n",
    "# Calculate half_my_age using division  \n",
    "half_my_age = my_age / 2  \n",
    "\n",
    "# Create a greeting message  \n",
    "greeting = \"Hello\"  \n",
    "\n",
    "# Assign a name  \n",
    "name = \"Nectar\"  # Example name  \n",
    "\n",
    "# Concatenate greeting with name  \n",
    "greeting_with_name = greeting + \", \" + name + \"!\"  \n",
    "\n",
    "# Print the results  \n",
    "print(\"My Age:\", my_age)  \n",
    "print(\"Half My Age:\", half_my_age)  \n",
    "print(\"Greeting:\", greeting)  \n",
    "print(\"Name:\", name)  \n",
    "print(\"Greeting with Name:\", greeting_with_name)"
   ]
  },
  {
   "cell_type": "markdown",
   "metadata": {},
   "source": [
    "## **Quiz**\n",
    "**1.** What is the difference between a `float` and an `int`?\n",
    "\n",
    "Answer Choices\n",
    "(Selected)Correct:\n",
    "A `float` represents decimal quantities. An `int` represents whole numbers.\n",
    "\n",
    "\n",
    "**2.** What character begins a comment in Python?\n",
    "\n",
    "Answer Choices\n",
    "`#`\n",
    "\n",
    "\n",
    "**3.** What is Python syntax for creating a variable and assigning the number 10 to it?\n",
    "\n",
    "Answer Choices\n",
    "(Selected)Correct:\n",
    "```python\n",
    "variable_name = 10\n",
    "```\n",
    "\n",
    "\n",
    "**4.** Which of the following will produce a SyntaxError?\n",
    "\n",
    "Answer Choices\n",
    "(Selected)Correct:\n",
    "answer = \"Is this an error'\n",
    "👏\n",
    "Correct! The quote marks are mismatched and will produce a SyntaxError\n",
    "\n",
    "\n",
    "**5.** What is the value of `modulo_variable` in the following expression?\n",
    "\n",
    "```python\n",
    "modulo_variable = 14 % 4 \n",
    "```\n",
    "Answer Choices\n",
    "(Selected)Correct:\n",
    "2\n",
    "👏\n",
    "Correct! The remainder after dividing 14 by 4 is 2.\n",
    "\n",
    "\n",
    "**6.** Which function outputs text to the terminal?\n",
    "\n",
    "Answer Choices\n",
    "(Selected)Correct:\n",
    "print()  \n",
    "  \n",
    "  \n",
    "**7.** How do you combine two strings?\n",
    "\n",
    "Answer Choices\n",
    "\n",
    "(Selected)Correct:\n",
    "string1 + string2\n",
    "\n",
    "**8.** What happens when running the following code?\n",
    "```python\n",
    "message = What a cool message!\n",
    "print(message)\n",
    "```\n",
    "Answer Choices\n",
    "\n",
    "Python throws a SyntaxError because the string is not surrounded by quotes.\n",
    "\n",
    "👏\n",
    "Correct! message does not get defined because there are no quotes around the string.  \n",
    "\n",
    "\n",
    "**9.** hat is the value of total_cost that gets printed?\n",
    "```python\n",
    "total_cost = 5\n",
    "total_cost += 10\n",
    "print(total_cost)\n",
    "```\n",
    "Answer Choices\n",
    "\n",
    "(Selected)Correct:\n",
    "15\n",
    "\n",
    "👏\n",
    "Correct! += adds the value afterwards to the variable and then updates the variable to be the sum.\n",
    "\n",
    "\n",
    "**10.** How does one define a multi-line string in Python?\n",
    "\"\"\"\n",
    "Like\n",
    "This\n",
    "\"\"\"\n",
    "\n",
    "👏\n",
    "Correct!\n",
    "\n",
    "\n",
    "**11.** \n",
    "```python\n",
    "cool_number = 12 + 30\n",
    "cool_number * 5\n",
    "print(cool_number) \n",
    "```\n",
    "Answer Choices\n",
    "210\n",
    "\n",
    "(Selected)Correct:\n",
    "42\n",
    "👏\n",
    "Correct! Multiplying the variable by 5 does not change the variable.  \n",
    "\n",
    "\n",
    "**12.** What number is saved to exponented_variable in the following expression?\n",
    "``` python\n",
    "exponented_variable = 2 ** 4\n",
    "```\n",
    "Answer Choices\n",
    "(Selected)Correct:\n",
    "16\n",
    "👏\n",
    "Correct! 2 to the 4th power is 16.\n",
    "\n",
    "\n",
    "**13.** How do you combine two strings?\n",
    "\n",
    "Answer Choices\n",
    "string1.concatenate(string2)\n",
    "\n",
    "(Selected)Correct:\n",
    "string1 + string2\n"
   ]
  }
 ],
 "metadata": {
  "kernelspec": {
   "display_name": "Python 3",
   "language": "python",
   "name": "python3"
  },
  "language_info": {
   "codemirror_mode": {
    "name": "ipython",
    "version": 3
   },
   "file_extension": ".py",
   "mimetype": "text/x-python",
   "name": "python",
   "nbconvert_exporter": "python",
   "pygments_lexer": "ipython3",
   "version": "3.11.11"
  }
 },
 "nbformat": 4,
 "nbformat_minor": 2
}
